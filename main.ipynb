{
 "cells": [
  {
   "cell_type": "code",
   "execution_count": 24,
   "metadata": {},
   "outputs": [
    {
     "name": "stdout",
     "output_type": "stream",
     "text": [
      "min: 1\n",
      "Q1: 3\n",
      "med: 5.5\n",
      "Q3: 8\n",
      "max: 10\n",
      "mean: 5.5\n",
      "s: 3.0276503540974917 \n",
      "\n",
      "[5, 2, 6, 9, 4, 1, 8, 10, 3, 7] \n",
      "\n",
      "min: 1\n",
      "Q1: 3\n",
      "med: 5.5\n",
      "Q3: 8\n",
      "max: 10\n",
      "mean: 5.5\n",
      "s: 3.0276503540974917\n"
     ]
    }
   ],
   "source": [
    "from __future__ import annotations\n",
    "from numpy import sqrt\n",
    "\n",
    "def mean(x: list[float]) -> float:\n",
    "    return sum(x)/len(x)\n",
    "\n",
    "def variance(x: list[float]) -> float:\n",
    "    xbar: float = mean(x)\n",
    "    dev: list[float] = [(xi-xbar)**2 for xi in x]\n",
    "    return sum(dev)/(len(x)-1)\n",
    "\n",
    "def standard_deviation(x: list[float]) -> float:\n",
    "    return sqrt(variance(x))\n",
    "\n",
    "def median(x: list[float]) -> float:\n",
    "    x.sort()\n",
    "    n = len(x)\n",
    "    i = int(n/2)\n",
    "    if n%2 == 0:\n",
    "        return mean([x[i-1],x[i]])\n",
    "    else:\n",
    "        return x[i]\n",
    "    \n",
    "def Q1(x: list[float]) -> float:\n",
    "    x.sort()\n",
    "    return median(x[0:int(len(x)/2)])\n",
    "\n",
    "def Q3(x: list[float]) -> float:\n",
    "    x.sort(reverse=True)\n",
    "    return median(x[0:int(len(x)/2)])\n",
    "\n",
    "class summary():\n",
    "    def __init__(self, x: list[float]) -> None:\n",
    "        self.data = x\n",
    "        self.min: float = min(x)\n",
    "        self.Q1: float = Q1(x)\n",
    "        self.median: float = median(x)\n",
    "        self.Q3: float = Q3(x)\n",
    "        self.max: float = max(x)\n",
    "        self.mean: float = mean(x)\n",
    "        self.s: float = standard_deviation(x)\n",
    "    def __str__(self) -> str:\n",
    "        s = f\"min: {self.min}\\n\"\n",
    "        s += f\"Q1: {self.Q1}\\n\"\n",
    "        s += f\"med: {self.median}\\n\"\n",
    "        s += f\"Q3: {self.Q3}\\n\"\n",
    "        s += f\"max: {self.max}\\n\"\n",
    "        s += f\"mean: {self.mean}\\n\"\n",
    "        s += f\"s: {self.s}\"\n",
    "        return s\n",
    "    \n",
    "x = [1,2,3,4,5,6,7,8,9,10]\n",
    "print(summary(x),\"\\n\")\n",
    "\n",
    "\n",
    "import random\n",
    "random.shuffle(x)\n",
    "print(x,\"\\n\")\n",
    "print(summary(x))"
   ]
  }
 ],
 "metadata": {
  "kernelspec": {
   "display_name": "nn",
   "language": "python",
   "name": "python3"
  },
  "language_info": {
   "codemirror_mode": {
    "name": "ipython",
    "version": 3
   },
   "file_extension": ".py",
   "mimetype": "text/x-python",
   "name": "python",
   "nbconvert_exporter": "python",
   "pygments_lexer": "ipython3",
   "version": "3.10.10"
  },
  "orig_nbformat": 4
 },
 "nbformat": 4,
 "nbformat_minor": 2
}
